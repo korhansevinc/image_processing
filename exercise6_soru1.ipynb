{
 "cells": [
  {
   "cell_type": "code",
   "execution_count": null,
   "metadata": {},
   "outputs": [],
   "source": [
    "import cv2\n",
    "import numpy as np\n",
    "from sklearn.cluster import KMeans\n",
    "\n",
    "# Load the test image\n",
    "image = cv2.imread('Lena.jpg')\n",
    "\n",
    "# Convert the image to RGB (OpenCV loads images in BGR format)\n",
    "image_rgb = cv2.cvtColor(image, cv2.COLOR_BGR2RGB)\n",
    "\n",
    "# Apply SLIC superpixel segmentation\n",
    "num_segments = 100  # You can adjust this parameter based on your preference\n",
    "slic = cv2.ximgproc.createSuperpixelSLIC(image, algorithm=cv2.ximgproc.SLIC, region_size=10, ruler=10.0)\n",
    "slic.iterate(10)  # You can adjust the number of iterations\n",
    "\n",
    "# Get the number of superpixels\n",
    "num_superpixels = slic.getNumberOfSuperpixels()\n",
    "\n",
    "# Get the labels of the superpixels\n",
    "labels = slic.getLabels()\n",
    "\n",
    "# Create an image to visualize the superpixels\n",
    "mask = slic.getLabelContourMask()\n",
    "image_superpixels = cv2.cvtColor(image_rgb, cv2.COLOR_RGB2RGBA)\n",
    "image_superpixels[mask > 0] = [0, 255, 0, 255]  # Set contour pixels to green\n",
    "\n",
    "# Apply k-means clustering on the superpixels\n",
    "superpixel_centers = []\n",
    "for i in range(num_superpixels):\n",
    "    mask = (labels == i).astype(np.uint8)\n",
    "    nonzero_points = np.column_stack(np.where(mask > 0))\n",
    "    center = np.mean(nonzero_points, axis=0)\n",
    "    superpixel_centers.append(center)\n",
    "\n",
    "superpixel_centers = np.array(superpixel_centers)\n",
    "kmeans = KMeans(n_clusters=2, random_state=42)\n",
    "kmeans.fit(superpixel_centers)\n",
    "\n",
    "# Assign cluster labels to superpixels\n",
    "segmentation_result = np.zeros_like(labels, dtype=np.uint8)\n",
    "for i, label in enumerate(kmeans.labels_):\n",
    "    segmentation_result[labels == i] = label\n",
    "\n",
    "# Visualize the segmentation result\n",
    "segmentation_result_colored = cv2.applyColorMap(segmentation_result * 50, cv2.COLORMAP_JET)\n",
    "segmentation_result_colored = cv2.cvtColor(segmentation_result_colored, cv2.COLOR_BGR2RGB)\n",
    "\n",
    "# Display the original image, superpixels, and segmentation result\n",
    "cv2.imshow('Original Image', cv2.cvtColor(image_rgb, cv2.COLOR_RGB2BGR))\n",
    "cv2.imshow('Superpixels', image_superpixels)\n",
    "cv2.imshow('Segmentation Result', segmentation_result_colored)\n",
    "cv2.waitKey(0)\n",
    "cv2.destroyAllWindows()\n"
   ]
  },
  {
   "cell_type": "code",
   "execution_count": null,
   "metadata": {},
   "outputs": [],
   "source": []
  }
 ],
 "metadata": {
  "kernelspec": {
   "display_name": "opencv-env",
   "language": "python",
   "name": "python3"
  },
  "language_info": {
   "codemirror_mode": {
    "name": "ipython",
    "version": 3
   },
   "file_extension": ".py",
   "mimetype": "text/x-python",
   "name": "python",
   "nbconvert_exporter": "python",
   "pygments_lexer": "ipython3",
   "version": "3.11.5"
  }
 },
 "nbformat": 4,
 "nbformat_minor": 2
}
