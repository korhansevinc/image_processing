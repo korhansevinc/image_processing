{
 "cells": [
  {
   "cell_type": "markdown",
   "metadata": {},
   "source": [
    "EXERCISE 2"
   ]
  },
  {
   "cell_type": "markdown",
   "metadata": {},
   "source": [
    "Imports"
   ]
  },
  {
   "cell_type": "code",
   "execution_count": 26,
   "metadata": {},
   "outputs": [],
   "source": [
    "import cv2 as cv\n",
    "import numpy as np"
   ]
  },
  {
   "cell_type": "markdown",
   "metadata": {},
   "source": [
    "Reading Image"
   ]
  },
  {
   "cell_type": "code",
   "execution_count": 27,
   "metadata": {},
   "outputs": [],
   "source": [
    "image = cv.imread(\"lena_grayscale_hq.jpg\",0)"
   ]
  },
  {
   "cell_type": "code",
   "execution_count": 28,
   "metadata": {},
   "outputs": [],
   "source": [
    "filter_size = 3 # this means (filter_size x filter_size filter.)"
   ]
  },
  {
   "cell_type": "markdown",
   "metadata": {},
   "source": [
    "Necessary functions :"
   ]
  },
  {
   "cell_type": "code",
   "execution_count": 29,
   "metadata": {},
   "outputs": [],
   "source": [
    "# creating our box filter and coefficient.\n",
    "def create_filter(filter_size): \n",
    "      filter = np.ones( (filter_size,filter_size))\n",
    "      zero_padding = determine_zero_padding_number(filter_size)\n",
    "      return filter, filter_size* filter_size, zero_padding\n",
    "# to determine how many zeros to add for zero padding for one pixel to a row or column.\n",
    "def determine_zero_padding_number(filter_size): \n",
    "      return  ((int)(filter_size / 2 ))\n",
    "# creating our new matrix to imply our box filter\n",
    "def new_matrix_with_zeros(image,zero_padding_number):\n",
    "      image_row, image_column = image.shape\n",
    "      new_m = image_row + zero_padding_number * 2\n",
    "      new_n = image_column + zero_padding_number * 2\n",
    "      new_matrix = np.zeros( (new_m,new_n)  )\n",
    "      new_matrix[zero_padding_number: zero_padding_number + image_row, zero_padding_number: zero_padding_number + image_column] = image\n",
    "      return new_matrix\n",
    "# filtering functions\n",
    "\n",
    "# i,j centered piece taken.\n",
    "def take_a_piece(big_matrix,i,j,padding_size):\n",
    "      x1 = i-padding_size\n",
    "      x2 = i+padding_size\n",
    "      x3 = j-padding_size\n",
    "      x4 = j+padding_size\n",
    "      piece = big_matrix[x1:x2+1,x3:x4+1]\n",
    "      return piece\n",
    "\n",
    "def implement_filter(piece , box_filter,filter_coefficient):\n",
    "      sum = np.sum(piece)\n",
    "      pixel_value =  (sum /filter_coefficient)\n",
    "      return pixel_value\n",
    "\n",
    "def filtering(big_matrix, image, padding, filter_coefficient, box_filter):\n",
    "      big_row, big_col = big_matrix.shape\n",
    "      im_row, im_col = image.shape\n",
    "      filtered_image = np.ones((im_row, im_col))\n",
    "      for i in range(padding,padding + im_row):\n",
    "            for j in range(padding, padding + im_col):\n",
    "                  # dogru range'de doğru kez çalışıyor.\n",
    "                  piece = take_a_piece(big_matrix,i,j,padding)\n",
    "                  pixel_value = implement_filter(piece,box_filter,filter_coefficient)\n",
    "                  filtered_image[i-padding,j-padding] = pixel_value\n",
    "      return filtered_image           \n",
    "                  \n",
    "                                   \n",
    "# image displaying function\n",
    "def draw_images(image1, image2):\n",
    "      cv.namedWindow(\"image1\", cv.WINDOW_NORMAL)\n",
    "      cv.namedWindow(\"image2\", cv.WINDOW_NORMAL)\n",
    "      cv.imshow(\"image1\", image1)\n",
    "      cv.imshow(\"image2\", image2)\n",
    "      cv.waitKey(0)\n",
    "      cv.destroyAllWindows()     \n",
    "\n",
    "def open_cv_implementation(image,filter_size):\n",
    "      box_filter = np.ones((filter_size, filter_size), np.float32) / (filter_size * filter_size)\n",
    "      border_type = cv.BORDER_CONSTANT\n",
    "      opencv_filtered_image = cv.filter2D(image, -1, box_filter, borderType=border_type)\n",
    "      return opencv_filtered_image\n",
    "\n",
    "def my_implementation_of_blurring(image,filter_size):\n",
    "      box_filter, filter_coefficient, padding = create_filter(filter_size)\n",
    "      big_matrix = new_matrix_with_zeros(image,padding)\n",
    "      filtered_matrix = filtering(big_matrix,image,padding,filter_coefficient,box_filter)\n",
    "      filtered_matrix = np.uint8(np.round(filtered_matrix))\n",
    "      return filtered_matrix"
   ]
  },
  {
   "cell_type": "markdown",
   "metadata": {},
   "source": [
    "My Implementation :"
   ]
  },
  {
   "cell_type": "markdown",
   "metadata": {},
   "source": [
    "3x3 - 11x11 - 21x21"
   ]
  },
  {
   "cell_type": "code",
   "execution_count": 30,
   "metadata": {},
   "outputs": [],
   "source": [
    "output_1_1 = my_implementation_of_blurring(image,3)\n",
    "output_1_2 = my_implementation_of_blurring(image,11)\n",
    "output_1_3 = my_implementation_of_blurring(image,21)"
   ]
  },
  {
   "cell_type": "markdown",
   "metadata": {},
   "source": [
    "OpenCV's Implementation"
   ]
  },
  {
   "cell_type": "markdown",
   "metadata": {},
   "source": [
    "3x3 - 11x11 - 21x21"
   ]
  },
  {
   "cell_type": "code",
   "execution_count": 31,
   "metadata": {},
   "outputs": [],
   "source": [
    "output_2_1 = open_cv_implementation(image,3)\n",
    "output_2_2 = open_cv_implementation(image,11)\n",
    "output_2_3 = open_cv_implementation(image,21)\n"
   ]
  },
  {
   "cell_type": "markdown",
   "metadata": {},
   "source": [
    "Q1 - Evaluation Part :"
   ]
  },
  {
   "cell_type": "code",
   "execution_count": 32,
   "metadata": {},
   "outputs": [
    {
     "name": "stdout",
     "output_type": "stream",
     "text": [
      "3x3 difference is :  0\n",
      "11x11 difference is :  0\n",
      "21x21 difference is :  0\n"
     ]
    }
   ],
   "source": [
    "difference_1 = np.sum(abs(output_1_1 - output_2_1 ))\n",
    "difference_2 = np.sum(abs(output_1_2 - output_2_2 ))\n",
    "difference_3 = np.sum(abs(output_1_3 - output_2_3 ))\n",
    "print(\"3x3 difference is : \", difference_1)\n",
    "print(\"11x11 difference is : \", difference_2)\n",
    "print(\"21x21 difference is : \", difference_3)"
   ]
  },
  {
   "cell_type": "code",
   "execution_count": 33,
   "metadata": {},
   "outputs": [],
   "source": [
    "draw_images(output_1_1,output_2_1)\n",
    "draw_images(output_1_2,output_2_2)\n",
    "draw_images(output_1_3,output_2_3)"
   ]
  },
  {
   "cell_type": "markdown",
   "metadata": {},
   "source": [
    "Q2 - Seperable Box Filter Implementation:"
   ]
  },
  {
   "cell_type": "code",
   "execution_count": 48,
   "metadata": {},
   "outputs": [],
   "source": [
    "def seperable_1D_filter(filter_size):\n",
    "   filter = np.ones( (1,filter_size) )\n",
    "   padding = determine_zero_padding_number(filter_size)\n",
    "   return filter, filter_size, padding \n",
    "\n",
    "def filtering_1D(big_matrix, image, padding, filter_coefficient, filter,is_transpoze):\n",
    "   if is_transpoze == False :\n",
    "      big_row, big_col = big_matrix.shape\n",
    "      im_row, im_col = image.shape\n",
    "      filtered_image = np.ones((im_row, im_col))\n",
    "      for i in range(padding,padding + im_row):\n",
    "            for j in range(padding, padding + im_col):\n",
    "                  # dogru range'de doğru kez çalışıyor.\n",
    "                  piece = take_1D_piece(big_matrix,i,j,padding,False)\n",
    "                  pixel_value = implement_filter(piece,filter,filter_coefficient)\n",
    "                  filtered_image[i-padding,j-padding] = pixel_value\n",
    "      big_matrix[padding:padding+im_row, padding:padding + im_col] = filtered_image\n",
    "      return big_matrix\n",
    "   \n",
    "   if is_transpoze == True :\n",
    "      big_row, big_col = big_matrix.shape\n",
    "      im_row, im_col = image.shape\n",
    "      filtered_image = np.ones((im_row, im_col))\n",
    "      for i in range(padding,padding + im_row):\n",
    "            for j in range(padding, padding + im_col):\n",
    "                  # dogru range'de doğru kez çalışıyor.\n",
    "                  piece = take_1D_piece(big_matrix,i,j,padding,True)\n",
    "                  pixel_value = implement_filter(piece,filter,filter_coefficient)\n",
    "                  filtered_image[i-padding,j-padding] = pixel_value\n",
    "      return filtered_image   \n",
    "      \n",
    "\n",
    "def take_1D_piece(big_matrix,i,j,padding, is_transpoze):\n",
    "   if is_transpoze == False :\n",
    "      x1 = j - padding\n",
    "      x2 = j + padding\n",
    "      piece = big_matrix[i,x1:x2+1]\n",
    "   if is_transpoze == True :\n",
    "      x1 = i - padding\n",
    "      x2 = i + padding\n",
    "      piece = big_matrix[x1:x2+1,j] \n",
    "   return piece\n",
    "def implement_1D_filter(piece , filter_1D , filter_coefficient):\n",
    "   sum = np.sum(piece)\n",
    "   pixel_val = sum / filter_coefficient\n",
    "   return pixel_val\n",
    "def my_implementation_of_blurring_with_seperable_filter(image,filter_size):\n",
    "   filter, filter_coefficient, padding = seperable_1D_filter(filter_size)\n",
    "   big_matrix = new_matrix_with_zeros(image,padding)\n",
    "   filtered_image = filtering_1D(big_matrix, image, padding, filter_coefficient, filter,False)\n",
    "   filtered_image = filtering_1D(big_matrix, image, padding, filter_coefficient, filter,True)\n",
    "   filtered_image = np.uint8(np.round(filtered_image))\n",
    "   return filtered_image"
   ]
  },
  {
   "cell_type": "markdown",
   "metadata": {},
   "source": [
    "My Implementation of Seperable Box Filter : 3x3 - 11x11 - 21x21"
   ]
  },
  {
   "cell_type": "code",
   "execution_count": 49,
   "metadata": {},
   "outputs": [],
   "source": [
    "output_3_1 = my_implementation_of_blurring_with_seperable_filter(image,3)\n",
    "output_3_2 = my_implementation_of_blurring_with_seperable_filter(image,11)\n",
    "output_3_3 = my_implementation_of_blurring_with_seperable_filter(image,21)"
   ]
  },
  {
   "cell_type": "markdown",
   "metadata": {},
   "source": [
    "Q2 - Evaluation Part :"
   ]
  },
  {
   "cell_type": "code",
   "execution_count": 50,
   "metadata": {},
   "outputs": [
    {
     "name": "stdout",
     "output_type": "stream",
     "text": [
      "3x3 difference is :  0\n",
      "11x11 difference is :  0\n",
      "21x21 difference is :  0\n"
     ]
    }
   ],
   "source": [
    "difference_4 = np.sum(abs(output_3_1 - output_2_1 ))\n",
    "difference_5 = np.sum(abs(output_3_2 - output_2_2 ))\n",
    "difference_6 = np.sum(abs(output_3_3 - output_2_3 ))\n",
    "print(\"3x3 difference is : \", difference_4)\n",
    "print(\"11x11 difference is : \", difference_5)\n",
    "print(\"21x21 difference is : \", difference_6)"
   ]
  },
  {
   "cell_type": "code",
   "execution_count": 51,
   "metadata": {},
   "outputs": [],
   "source": [
    "draw_images(output_3_1,output_2_1)\n",
    "draw_images(output_3_2,output_2_2)\n",
    "draw_images(output_3_3,output_2_3)"
   ]
  }
 ],
 "metadata": {
  "kernelspec": {
   "display_name": "base",
   "language": "python",
   "name": "python3"
  },
  "language_info": {
   "codemirror_mode": {
    "name": "ipython",
    "version": 3
   },
   "file_extension": ".py",
   "mimetype": "text/x-python",
   "name": "python",
   "nbconvert_exporter": "python",
   "pygments_lexer": "ipython3",
   "version": "3.11.5"
  }
 },
 "nbformat": 4,
 "nbformat_minor": 2
}
