{
 "cells": [
  {
   "cell_type": "markdown",
   "metadata": {},
   "source": [
    "EXERCISE 5 "
   ]
  },
  {
   "cell_type": "markdown",
   "metadata": {},
   "source": [
    "Importing Libraries :"
   ]
  },
  {
   "cell_type": "code",
   "execution_count": 122,
   "metadata": {},
   "outputs": [],
   "source": [
    "import cv2 as cv\n",
    "import numpy as np"
   ]
  },
  {
   "cell_type": "markdown",
   "metadata": {},
   "source": [
    "Inputting Image :"
   ]
  },
  {
   "cell_type": "code",
   "execution_count": 123,
   "metadata": {},
   "outputs": [
    {
     "name": "stdout",
     "output_type": "stream",
     "text": [
      "[[162 162 162 ... 170 155 128]\n",
      " [162 162 162 ... 170 156 128]\n",
      " [162 162 162 ... 170 154 128]\n",
      " ...\n",
      " [ 42  42  49 ... 104  99  98]\n",
      " [ 44  44  54 ... 104 104 108]\n",
      " [ 44  44  53 ... 104 105 108]]\n"
     ]
    }
   ],
   "source": [
    "lena_grayscale_image = cv.imread(\"lena_grayscale_hq.jpg\",0)\n",
    "print(lena_grayscale_image)"
   ]
  },
  {
   "cell_type": "markdown",
   "metadata": {},
   "source": [
    "Necessary Functions :"
   ]
  },
  {
   "cell_type": "code",
   "execution_count": 124,
   "metadata": {},
   "outputs": [],
   "source": [
    "def integral_image(image):\n",
    "    integral = np.zeros_like(image, dtype=np.uint32)\n",
    "    integral[0, 0] = image[0, 0]\n",
    "\n",
    "    # Compute the first row and column of the integral image\n",
    "    for i in range(1, image.shape[0]):\n",
    "        integral[i, 0] = integral[i - 1, 0] + image[i, 0]\n",
    "\n",
    "    for j in range(1, image.shape[1]):\n",
    "        integral[0, j] = integral[0, j - 1] + image[0, j]\n",
    "\n",
    "    # Compute the rest of the integral image\n",
    "    for i in range(1, image.shape[0]):\n",
    "        for j in range(1, image.shape[1]):\n",
    "            integral[i, j] = integral[i - 1, j] + integral[i, j - 1] - integral[i - 1, j - 1] + image[i, j]\n",
    "\n",
    "    return integral\n",
    "\n",
    "def box_filter(integral, w):\n",
    "    output = np.zeros_like(integral, dtype=np.float32)\n",
    "    half_w = w // 2\n",
    "\n",
    "    for i in range(output.shape[0]):\n",
    "        for j in range(output.shape[1]):\n",
    "            x0, y0 = max(0, i - half_w), max(0, j - half_w)\n",
    "            x1, y1 = min(i + half_w, integral.shape[0] - 1), min(j + half_w, integral.shape[1] - 1)\n",
    "\n",
    "            sum_box = (\n",
    "                integral[x1, y1] -\n",
    "                (x0 > 0) * integral[x0 - 1, y1] -\n",
    "                (y0 > 0) * integral[x1, y0 - 1] +\n",
    "                (x0 > 0 and y0 > 0) * integral[x0 - 1, y0 - 1]\n",
    "            )\n",
    "            output[i, j] = np.float32(sum_box / (w * w))\n",
    "    output = np.uint8(np.round(output))\n",
    "    return output\n",
    "\n",
    "\n",
    "def integralImage(image):\n",
    "    m,n = image.shape\n",
    "    integralImage = np.zeros((m,n) , dtype=np.int32)\n",
    "    for i in range(m):\n",
    "        for j in range(n):\n",
    "            integralImage[i,j] = image[i,j]\n",
    "            \n",
    "            if i > 0 :\n",
    "                integralImage[i,j] += integralImage[i-1,j]\n",
    "            if j > 0 :\n",
    "                integralImage[i,j] += integralImage[i,j-1]\n",
    "            if i > 0 and j > 0 :\n",
    "                integralImage[i,j] -= integralImage[i-1,j-1]\n",
    "    bigIntegralImage = np.zeros( (m+1,n+1), dtype=np.int32)\n",
    "    bigIntegralImage[1:,1:] = integralImage\n",
    "    return bigIntegralImage\n",
    "\n",
    "def open_cv_implementation_of_box_filter(image,filter_size):\n",
    "      box_filter = np.ones((filter_size, filter_size), np.float32) / (filter_size * filter_size)\n",
    "      border_type = cv.BORDER_CONSTANT\n",
    "      opencv_filtered_image = cv.filter2D(image, -1, box_filter, borderType=border_type)\n",
    "      return opencv_filtered_image"
   ]
  },
  {
   "cell_type": "markdown",
   "metadata": {},
   "source": [
    "Q - 1 : Integral Image"
   ]
  },
  {
   "cell_type": "code",
   "execution_count": 125,
   "metadata": {},
   "outputs": [
    {
     "name": "stdout",
     "output_type": "stream",
     "text": [
      "[[       0        0        0 ...        0        0        0]\n",
      " [       0      162      324 ...    69703    69858    69986]\n",
      " [       0      324      648 ...   139407   139718   139974]\n",
      " ...\n",
      " [       0    48468    96939 ... 32280873 32347309 32413825]\n",
      " [       0    48512    97027 ... 32340473 32407013 32473637]\n",
      " [       0    48556    97115 ... 32400074 32466719 32533451]]\n"
     ]
    }
   ],
   "source": [
    "integralOfLena = integralImage(lena_grayscale_image)\n",
    "print(integralOfLena)\n",
    "deneme=integral_image(lena_grayscale_image)\n",
    "#print(deneme)"
   ]
  },
  {
   "cell_type": "code",
   "execution_count": 126,
   "metadata": {},
   "outputs": [
    {
     "name": "stdout",
     "output_type": "stream",
     "text": [
      "[[       0        0        0 ...        0        0        0]\n",
      " [       0      162      324 ...    69703    69858    69986]\n",
      " [       0      324      648 ...   139407   139718   139974]\n",
      " ...\n",
      " [       0    48468    96939 ... 32280873 32347309 32413825]\n",
      " [       0    48512    97027 ... 32340473 32407013 32473637]\n",
      " [       0    48556    97115 ... 32400074 32466719 32533451]]\n"
     ]
    }
   ],
   "source": [
    "opencvIntegralLena = cv.integral(lena_grayscale_image)\n",
    "print(opencvIntegralLena)"
   ]
  },
  {
   "cell_type": "code",
   "execution_count": 127,
   "metadata": {},
   "outputs": [
    {
     "name": "stdout",
     "output_type": "stream",
     "text": [
      "[[     162      324      486 ...    69703    69858    69986]\n",
      " [     324      648      972 ...   139407   139718   139974]\n",
      " [     486      972     1458 ...   209103   209568   209952]\n",
      " ...\n",
      " [   48468    96939   145645 ... 32280873 32347309 32413825]\n",
      " [   48512    97027   145787 ... 32340473 32407013 32473637]\n",
      " [   48556    97115   145928 ... 32400074 32466719 32533451]]\n",
      "[[162 162 162 ... 170 155 128]\n",
      " [162 162 162 ... 170 156 128]\n",
      " [162 162 162 ... 170 154 128]\n",
      " ...\n",
      " [ 42  42  49 ... 104  99  98]\n",
      " [ 44  44  54 ... 104 104 108]\n",
      " [ 44  44  53 ... 104 105 108]]\n"
     ]
    }
   ],
   "source": [
    "lenaIntegralWithoutZeroPadding = integralOfLena[1:,1:]\n",
    "print(lenaIntegralWithoutZeroPadding)\n",
    "print(lena_grayscale_image)"
   ]
  },
  {
   "cell_type": "markdown",
   "metadata": {},
   "source": [
    "Calculating the Difference :"
   ]
  },
  {
   "cell_type": "code",
   "execution_count": 128,
   "metadata": {},
   "outputs": [
    {
     "name": "stdout",
     "output_type": "stream",
     "text": [
      "[[0 0 0 ... 0 0 0]\n",
      " [0 0 0 ... 0 0 0]\n",
      " [0 0 0 ... 0 0 0]\n",
      " ...\n",
      " [0 0 0 ... 0 0 0]\n",
      " [0 0 0 ... 0 0 0]\n",
      " [0 0 0 ... 0 0 0]]\n",
      "0\n",
      "[[0 0 0 ... 0 0 0]\n",
      " [0 0 0 ... 0 0 0]\n",
      " [0 0 0 ... 0 0 0]\n",
      " ...\n",
      " [0 0 0 ... 0 0 0]\n",
      " [0 0 0 ... 0 0 0]\n",
      " [0 0 0 ... 0 0 0]]\n",
      "0\n"
     ]
    }
   ],
   "source": [
    "print(abs(integralOfLena - opencvIntegralLena))\n",
    "print(np.sum(abs(integralOfLena - opencvIntegralLena)))\n",
    "# When multiplied with 100 :\n",
    "print( 100 * abs(integralOfLena - opencvIntegralLena))\n",
    "print(100 * np.sum(abs(integralOfLena - opencvIntegralLena)))"
   ]
  },
  {
   "cell_type": "markdown",
   "metadata": {},
   "source": [
    "Q - 2 : Efficient Implementation of Box Filter using Integral Image :"
   ]
  },
  {
   "cell_type": "markdown",
   "metadata": {},
   "source": [
    "OpenCV's Box Filter and It's Result :"
   ]
  },
  {
   "cell_type": "code",
   "execution_count": 129,
   "metadata": {},
   "outputs": [
    {
     "name": "stdout",
     "output_type": "stream",
     "text": [
      "[[ 72 108 108 ... 110 101  63]\n",
      " [108 162 162 ... 166 151  94]\n",
      " [108 162 162 ... 165 151  94]\n",
      " ...\n",
      " [ 29  46  48 ... 101 102  67]\n",
      " [ 29  46  48 ... 102 104  69]\n",
      " [ 20  31  33 ...  69  70  47]]\n"
     ]
    }
   ],
   "source": [
    "boxfilter = open_cv_implementation_of_box_filter(lena_grayscale_image,3)\n",
    "print(boxfilter)"
   ]
  },
  {
   "cell_type": "markdown",
   "metadata": {},
   "source": [
    "Our Box Filter Using Integral Image :"
   ]
  },
  {
   "cell_type": "code",
   "execution_count": 134,
   "metadata": {},
   "outputs": [
    {
     "name": "stderr",
     "output_type": "stream",
     "text": [
      "C:\\Users\\Korhan\\AppData\\Local\\Temp\\ipykernel_21512\\1556986300.py:49: RuntimeWarning: overflow encountered in scalar subtract\n",
      "  integral[x1, y1] -\n",
      "C:\\Users\\Korhan\\AppData\\Local\\Temp\\ipykernel_21512\\1556986300.py:49: RuntimeWarning: overflow encountered in scalar add\n",
      "  integral[x1, y1] -\n"
     ]
    },
    {
     "name": "stdout",
     "output_type": "stream",
     "text": [
      "[[ 72 108 108 ... 110 101  63]\n",
      " [108 162 162 ... 166 151  94]\n",
      " [108 162 162 ... 165 151  94]\n",
      " ...\n",
      " [ 29  46  48 ... 101 102  67]\n",
      " [ 29  46  48 ... 102 104  69]\n",
      " [ 20  31  33 ...  69  70  47]]\n"
     ]
    }
   ],
   "source": [
    "output=box_filter(deneme,3)\n",
    "print(output)"
   ]
  },
  {
   "cell_type": "code",
   "execution_count": 135,
   "metadata": {},
   "outputs": [
    {
     "name": "stdout",
     "output_type": "stream",
     "text": [
      "0\n"
     ]
    }
   ],
   "source": [
    "print(np.sum(abs(output - boxfilter)))"
   ]
  },
  {
   "cell_type": "markdown",
   "metadata": {},
   "source": [
    "Q - 3 : Regular Box Filter versus using Integral Image : "
   ]
  },
  {
   "cell_type": "markdown",
   "metadata": {},
   "source": [
    "For 5x5 Box Filter :    In regular implementation, for one pixel there is 25 integer additions to sum the pixel values within the window and 1 floating- point divisions. On the other hand, in integral image implementation we have 4 integer additions and 1 floating point division for an output pixel. So we can say that using the integral image method can significantly reduce the computational load, especially for larger filter sizes."
   ]
  },
  {
   "cell_type": "markdown",
   "metadata": {},
   "source": [
    "Q - 4 : So what is the tradeoff ? Any downsides ?"
   ]
  },
  {
   "cell_type": "markdown",
   "metadata": {},
   "source": [
    "The integral image method offers significant advantages in terms of computational efficiency, as it reduces the number of additions required to calculate the sum within a rectangular region. However, like any technique, it does have some downsides and limitations : \n",
    "Those are :\n",
    " \n",
    "1 - Memory Overhead : This can be a concern especially for the larger images, it may impact memory usage.\n",
    "\n",
    "2 - Preprocessing Overhead : Calculating the integral images requires an initial preprocessing step, which adds some overhead to the overall process. This may not be significant for a single image, but it can be a concern in real-time apps or when dealing with video streams.\n",
    "    \n",
    "3- Round Off Errors : The integral image method involves a division operation which can introduce round-off errors.Depending on the application, these errors may or may not be acceptable, but in this case , box filter has a division operation so this is a downthumb for both of them."
   ]
  }
 ],
 "metadata": {
  "kernelspec": {
   "display_name": "opencv-env",
   "language": "python",
   "name": "python3"
  },
  "language_info": {
   "codemirror_mode": {
    "name": "ipython",
    "version": 3
   },
   "file_extension": ".py",
   "mimetype": "text/x-python",
   "name": "python",
   "nbconvert_exporter": "python",
   "pygments_lexer": "ipython3",
   "version": "3.11.5"
  }
 },
 "nbformat": 4,
 "nbformat_minor": 2
}
