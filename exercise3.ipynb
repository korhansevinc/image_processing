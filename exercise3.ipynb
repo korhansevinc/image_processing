{
 "cells": [
  {
   "cell_type": "markdown",
   "metadata": {},
   "source": [
    "EXERCISE 3"
   ]
  },
  {
   "cell_type": "markdown",
   "metadata": {},
   "source": [
    "Imports : "
   ]
  },
  {
   "cell_type": "code",
   "execution_count": 2,
   "metadata": {},
   "outputs": [],
   "source": [
    "import cv2 as cv\n",
    "import numpy as np"
   ]
  },
  {
   "cell_type": "markdown",
   "metadata": {},
   "source": [
    "Taking as Input our Images :"
   ]
  },
  {
   "cell_type": "code",
   "execution_count": 3,
   "metadata": {},
   "outputs": [
    {
     "name": "stdout",
     "output_type": "stream",
     "text": [
      "[[161 163 161 ... 170 156 126]\n",
      " [161 165 163 ... 168 155 129]\n",
      " [164 154 166 ... 172 154 129]\n",
      " ...\n",
      " [ 41  44  50 ... 103 102  98]\n",
      " [ 43  45  52 ... 106 106 106]\n",
      " [ 44  44  52 ... 103 103 109]]\n",
      "(512, 512)\n"
     ]
    }
   ],
   "source": [
    "noisyimage1 = cv.imread(\"noisyImage_SaltPepper_1.jpg\",0)\n",
    "print(noisyimage1)\n",
    "print(noisyimage1.shape)"
   ]
  },
  {
   "cell_type": "markdown",
   "metadata": {},
   "source": [
    "Necessary Function :"
   ]
  },
  {
   "cell_type": "code",
   "execution_count": 16,
   "metadata": {},
   "outputs": [],
   "source": [
    "def medianFilter(image,medianFilterSize):\n",
    "      m,n = image.shape\n",
    "      paddingSize = medianFilterSize // 2\n",
    "      new_matrix = borderReplicating(image,paddingSize)\n",
    "      medianFilteredImage = np.zeros( (m,n) )\n",
    "      for i in range(paddingSize,m+paddingSize):\n",
    "            for j in range(paddingSize,n+paddingSize):\n",
    "                  piece = take_a_piece(new_matrix,i,j,paddingSize)\n",
    "                  piece = piece.reshape( (piece.shape[0]**2))\n",
    "                  piece= np.sort(piece)\n",
    "                  medianValue = piece[ (medianFilterSize**2) // 2 ]\n",
    "                  medianFilteredImage[i-paddingSize,j-paddingSize] = medianValue\n",
    "      median_filtered_image = np.uint8(np.round(medianFilteredImage) )\n",
    "      return median_filtered_image\n",
    "\n",
    "def centerWeightedmedianFilter(image,medianFilterSize,weight):\n",
    "      m,n = image.shape\n",
    "      paddingSize = medianFilterSize // 2\n",
    "      new_matrix = borderReplicating(image,paddingSize)\n",
    "      centerWeightedMedianFilteredImage = np.zeros( (m,n) )\n",
    "      for i in range(paddingSize, paddingSize+m):\n",
    "            for j in range(paddingSize, paddingSize+n):\n",
    "                  piece = take_a_piece(new_matrix,i,j,paddingSize)\n",
    "                  temp = applyingWeight(piece,paddingSize,weight)\n",
    "                  temp = np.sort(temp)\n",
    "                  medianValue = temp[ (medianFilterSize**2) // 2 ]\n",
    "                  centerWeightedMedianFilteredImage[i-paddingSize, j-paddingSize]= medianValue\n",
    "      centerWeightedMedianFilteredImage = np.uint8(np.round(centerWeightedMedianFilteredImage))\n",
    "      return centerWeightedMedianFilteredImage\n",
    "\n",
    "def applyingWeight(piece,paddingSize,weight):\n",
    "      m,n = piece.shape\n",
    "      listOfPieceValues = []\n",
    "      for i in range(m):\n",
    "            for j in range(n):\n",
    "                  if i== paddingSize and j == paddingSize : # Which means it is center.\n",
    "                        for k in range(weight):\n",
    "                              listOfPieceValues.append(piece[i,j])\n",
    "                  else:\n",
    "                        listOfPieceValues.append(piece[i,j])\n",
    "      return listOfPieceValues\n",
    "            \n",
    "def borderReplicating(noisyimage1,paddingSize):\n",
    "      first_row = noisyimage1[0,:] \n",
    "      last_row = noisyimage1[-1,:]\n",
    "      first_col = noisyimage1[:,0]\n",
    "      last_col = noisyimage1[:,-1]\n",
    "      m,n = noisyimage1.shape\n",
    "      new_matrix= np.zeros( (m + 2 * paddingSize,n + 2 * paddingSize) )\n",
    "      new_matrix[paddingSize : paddingSize + m,paddingSize : paddingSize + n] = noisyimage1\n",
    "      for loop_range in range(paddingSize):\n",
    "            new_matrix[loop_range, paddingSize : paddingSize + m] = first_row\n",
    "            new_matrix[paddingSize + m + loop_range, paddingSize : paddingSize + m] = last_row\n",
    "            new_matrix[paddingSize : paddingSize + n, loop_range] = first_col\n",
    "            new_matrix[paddingSize: paddingSize + n ,paddingSize + n + loop_range  ] = last_col\n",
    "      for i in range(paddingSize):\n",
    "            for j in range(paddingSize):\n",
    "                  new_matrix[i,j] = noisyimage1[0,0]\n",
    "                  new_matrix[i, j+n+paddingSize] = noisyimage1[0,511]\n",
    "                  new_matrix[i+paddingSize+m, j] = noisyimage1[511,0]\n",
    "                  new_matrix[i+m+paddingSize,j+n+paddingSize] = noisyimage1[511,511]\n",
    "      return new_matrix\n",
    "def take_a_piece(big_matrix,i,j,padding_size):\n",
    "      x1 = i-padding_size\n",
    "      x2 = i+padding_size\n",
    "      x3 = j-padding_size\n",
    "      x4 = j+padding_size\n",
    "      piece = big_matrix[x1:x2+1,x3:x4+1]\n",
    "      return piece\n",
    "\n",
    "def draw_images(image1, image2):\n",
    "      cv.namedWindow(\"image1\", cv.WINDOW_NORMAL)\n",
    "      cv.namedWindow(\"image2\", cv.WINDOW_NORMAL)\n",
    "      cv.imshow(\"image1\", image1)\n",
    "      cv.imshow(\"image2\", image2)\n",
    "      cv.waitKey(0)\n",
    "      cv.destroyAllWindows()   "
   ]
  },
  {
   "cell_type": "markdown",
   "metadata": {},
   "source": [
    "Q-1 : Median Filter : 5x5"
   ]
  },
  {
   "cell_type": "code",
   "execution_count": 5,
   "metadata": {},
   "outputs": [],
   "source": [
    "medianFilteredImage = medianFilter(noisyimage1,5)"
   ]
  },
  {
   "cell_type": "markdown",
   "metadata": {},
   "source": [
    "OpenCV's Median Filter Implementation :"
   ]
  },
  {
   "cell_type": "code",
   "execution_count": 6,
   "metadata": {},
   "outputs": [],
   "source": [
    "medianOutput = cv.medianBlur(noisyimage1, 5)\n"
   ]
  },
  {
   "cell_type": "markdown",
   "metadata": {},
   "source": [
    "Evaluation Part :"
   ]
  },
  {
   "cell_type": "markdown",
   "metadata": {},
   "source": [
    "Our Median Filter Implementation vs Noisy Image :"
   ]
  },
  {
   "cell_type": "code",
   "execution_count": 7,
   "metadata": {},
   "outputs": [],
   "source": [
    "draw_images(medianFilteredImage,noisyimage1)"
   ]
  },
  {
   "cell_type": "markdown",
   "metadata": {},
   "source": [
    "OpenCv's Median Fılter Implementation vs Noisy Image"
   ]
  },
  {
   "cell_type": "code",
   "execution_count": 8,
   "metadata": {},
   "outputs": [],
   "source": [
    "draw_images(medianOutput,noisyimage1)"
   ]
  },
  {
   "cell_type": "markdown",
   "metadata": {},
   "source": [
    "Our implementation vs OpenCV:"
   ]
  },
  {
   "cell_type": "code",
   "execution_count": 9,
   "metadata": {},
   "outputs": [
    {
     "name": "stdout",
     "output_type": "stream",
     "text": [
      "0\n"
     ]
    }
   ],
   "source": [
    "draw_images(medianFilteredImage,medianOutput)\n",
    "print(np.sum(abs(medianFilteredImage-medianOutput)))"
   ]
  },
  {
   "cell_type": "markdown",
   "metadata": {},
   "source": [
    "Q - 2 : PSNR's and Evaluation"
   ]
  },
  {
   "cell_type": "code",
   "execution_count": 10,
   "metadata": {},
   "outputs": [
    {
     "name": "stdout",
     "output_type": "stream",
     "text": [
      "[[163 162 161 ... 170 156 126]\n",
      " [162 162 161 ... 168 155 129]\n",
      " [162 162 162 ... 172 154 129]\n",
      " ...\n",
      " [ 41  44  50 ... 103 102  98]\n",
      " [ 43  45  52 ... 106 106 106]\n",
      " [ 44  44  52 ... 103 103 109]]\n"
     ]
    }
   ],
   "source": [
    "originalImage = cv.imread(\"original.jpg\",0)\n",
    "print(originalImage)"
   ]
  },
  {
   "cell_type": "code",
   "execution_count": 11,
   "metadata": {},
   "outputs": [],
   "source": [
    "#DENOISE attempts:\n",
    "# Our median filter.\n",
    "medianfilterOutput = medianFilter(noisyimage1, 5)\n",
    "\n",
    "# Opencv median filter.\n",
    "medianOutput = cv.medianBlur(noisyimage1, 5)\n",
    "\n",
    "\n",
    "# Opencv .blur() API - NORMALIZED box filter.\n",
    "boxOutput = cv.blur(noisyimage1, (5,5))\n",
    "\n",
    "# Opencv .GaussianBlur() API - Gaussian filter.\n",
    "gaussOutput = cv.GaussianBlur(noisyimage1, (7,7), 0)\n",
    "\n"
   ]
  },
  {
   "cell_type": "code",
   "execution_count": 12,
   "metadata": {},
   "outputs": [
    {
     "name": "stdout",
     "output_type": "stream",
     "text": [
      "class:  ndarray\n",
      "shape:  (512, 512)\n",
      "strides:  (512, 1)\n",
      "itemsize:  1\n",
      "aligned:  True\n",
      "contiguous:  True\n",
      "fortran:  False\n",
      "data pointer: 0x1feb90efea0\n",
      "byteorder:  little\n",
      "byteswap:  False\n",
      "type: uint8\n"
     ]
    }
   ],
   "source": [
    "np.info(medianfilterOutput)"
   ]
  },
  {
   "cell_type": "markdown",
   "metadata": {},
   "source": [
    "PSNR's : Peak Signal Noise Ratio's"
   ]
  },
  {
   "cell_type": "code",
   "execution_count": 30,
   "metadata": {},
   "outputs": [
    {
     "name": "stdout",
     "output_type": "stream",
     "text": [
      "28.362689687778783\n",
      "29.2751171865568\n",
      "30.177481427164818\n",
      "31.195753661063716\n",
      "31.195753661063716\n"
     ]
    }
   ],
   "source": [
    "def psnr_vals(originalImage, noisyimage1, boxOutput, gaussOutput, medianOutput,medianfilterOutput):\n",
    "    psnr = cv.PSNR(originalImage, noisyimage1)\n",
    "    psnrBOX = cv.PSNR(originalImage, boxOutput)\n",
    "    psnrGAUSS = cv.PSNR(originalImage, gaussOutput)\n",
    "    psnrMEDIAN = cv.PSNR(originalImage, medianOutput)\n",
    "    psnrMEDIAN2 = cv.PSNR(originalImage, medianfilterOutput)\n",
    "    print(psnr)\n",
    "    print(psnrBOX)\n",
    "    print(psnrGAUSS)\n",
    "    print(psnrMEDIAN)\n",
    "    print(psnrMEDIAN2)\n",
    "psnr_vals(originalImage,noisyimage1,boxOutput,gaussOutput,medianOutput,medianfilterOutput)"
   ]
  },
  {
   "cell_type": "markdown",
   "metadata": {},
   "source": [
    "We can clearly see that median filters are better in the area of denoising salt and pepper noises. PSNR is a metric which measures how good a denoised image matches with the original image and we can see above the psnr values are increasing while going  \"box -> gaussian -> median\" and that is because actually our noise is all 0's and 255's , so when the median filter is sorting the area of filter_size array, these values are going to edges of array, and finally we can use the median value. But on the other hand, gaussian and box filter use these pixel values(noised ones).\n",
    "So, according to our logic and PSNR values on the above, median filters are better in the case of SALT AND PEPPER noises."
   ]
  },
  {
   "cell_type": "markdown",
   "metadata": {},
   "source": [
    "Q - 3 : Center Weighted Median Filter : ( The weights are : 1 1 1 1 1 / 1 1 3 1 1 / 1 1 1 1 1 ) Center weight is 3."
   ]
  },
  {
   "cell_type": "code",
   "execution_count": 18,
   "metadata": {},
   "outputs": [
    {
     "name": "stdout",
     "output_type": "stream",
     "text": [
      "[[161 161 161 ... 169 156 129]\n",
      " [161 161 161 ... 168 155 129]\n",
      " [161 161 161 ... 169 154 129]\n",
      " ...\n",
      " [ 44  45  50 ... 100 100  98]\n",
      " [ 44  45  49 ... 103 103 103]\n",
      " [ 44  44  51 ... 103 103 106]]\n"
     ]
    }
   ],
   "source": [
    "# Inputs: Noisy Image, Median Filter Size, Center Pixels Value.\n",
    "centerMedianFilterOutput = centerWeightedmedianFilter(noisyimage1,5,3)\n",
    "draw_images(centerMedianFilterOutput,noisyimage1)"
   ]
  },
  {
   "cell_type": "code",
   "execution_count": 20,
   "metadata": {},
   "outputs": [
    {
     "name": "stdout",
     "output_type": "stream",
     "text": [
      "31.989662722239437\n"
     ]
    }
   ],
   "source": [
    "psnrMEDIANCENTERWEIGHTED = cv.PSNR(originalImage,centerMedianFilterOutput)\n",
    "print(psnrMEDIANCENTERWEIGHTED)"
   ]
  },
  {
   "cell_type": "markdown",
   "metadata": {},
   "source": [
    "PSNR Values Revisited : "
   ]
  },
  {
   "cell_type": "code",
   "execution_count": 41,
   "metadata": {},
   "outputs": [
    {
     "name": "stdout",
     "output_type": "stream",
     "text": [
      "28.362689687778783\n",
      "29.2751171865568\n",
      "30.177481427164818\n",
      "31.195753661063716\n",
      "31.195753661063716\n",
      "Center Weighted Median Filter :  31.989662722239437\n"
     ]
    }
   ],
   "source": [
    "psnr_vals(originalImage,noisyimage1,boxOutput,gaussOutput,medianOutput,medianfilterOutput)\n",
    "print(\"Center Weighted Median Filter : \" ,psnrMEDIANCENTERWEIGHTED)"
   ]
  },
  {
   "cell_type": "markdown",
   "metadata": {},
   "source": [
    "Q-4 : Applying Filters to More and More Images "
   ]
  },
  {
   "cell_type": "code",
   "execution_count": 23,
   "metadata": {},
   "outputs": [],
   "source": [
    "noisyImage2 = cv.imread(\"noisyImage_SaltPepper_2.jpg\",0)\n",
    "noisyImage3 = cv.imread(\"noisyImage_SaltPepper_3.jpg\",0)\n",
    "noisyImage4 = cv.imread(\"noisyImage_SaltPepper_4.jpg\",0)"
   ]
  },
  {
   "cell_type": "markdown",
   "metadata": {},
   "source": [
    "Applying Median Filter to Images :"
   ]
  },
  {
   "cell_type": "code",
   "execution_count": 24,
   "metadata": {},
   "outputs": [],
   "source": [
    "medianFilterOutput2=medianFilter(noisyImage2,5)\n",
    "medianFilterOutput3=medianFilter(noisyImage3,5)\n",
    "medianFilterOutput4=medianFilter(noisyImage4,5)\n",
    "\n",
    "\n",
    "medianOutput2 = cv.medianBlur(noisyImage2, 5)\n",
    "medianOutput3 = cv.medianBlur(noisyImage3, 5)\n",
    "medianOutput4 = cv.medianBlur(noisyImage4, 5)\n",
    "\n",
    "centerMedianFilterOutput2 = centerWeightedmedianFilter(noisyImage2,5,3)\n",
    "centerMedianFilterOutput3 = centerWeightedmedianFilter(noisyImage3,5,3)\n",
    "centerMedianFilterOutput4 = centerWeightedmedianFilter(noisyImage4,5,3)\n"
   ]
  },
  {
   "cell_type": "markdown",
   "metadata": {},
   "source": [
    "Applying Box Filter to Images :"
   ]
  },
  {
   "cell_type": "code",
   "execution_count": 36,
   "metadata": {},
   "outputs": [],
   "source": [
    "boxOutput2 = cv.blur(noisyImage2, (5,5))\n",
    "boxOutput3 = cv.blur(noisyImage3, (5,5))\n",
    "boxOutput4 = cv.blur(noisyImage4, (5,5))"
   ]
  },
  {
   "cell_type": "markdown",
   "metadata": {},
   "source": [
    "Applying Gaussian Filter to Images :"
   ]
  },
  {
   "cell_type": "code",
   "execution_count": 37,
   "metadata": {},
   "outputs": [],
   "source": [
    "gaussOutput2 = cv.GaussianBlur(noisyImage2, (7,7), 0)\n",
    "gaussOutput3 = cv.GaussianBlur(noisyImage3, (7,7), 0)\n",
    "gaussOutput4 = cv.GaussianBlur(noisyImage4, (7,7), 0)"
   ]
  },
  {
   "cell_type": "markdown",
   "metadata": {},
   "source": [
    "PSNR Values of Other Images : "
   ]
  },
  {
   "cell_type": "code",
   "execution_count": 38,
   "metadata": {},
   "outputs": [
    {
     "name": "stdout",
     "output_type": "stream",
     "text": [
      "25.252754200220195\n",
      "29.0182996640224\n",
      "29.858708656756274\n",
      "31.181800680424118\n",
      "31.181800680424118\n",
      "31.95582877629777\n"
     ]
    }
   ],
   "source": [
    "psnr_vals(originalImage,noisyImage2,boxOutput2,gaussOutput2,medianOutput2,medianFilterOutput2)\n",
    "psnrMEDIANCENTERWEIGHTED2 = cv.PSNR(originalImage,centerMedianFilterOutput2)\n",
    "print(psnrMEDIANCENTERWEIGHTED2)"
   ]
  },
  {
   "cell_type": "code",
   "execution_count": 39,
   "metadata": {},
   "outputs": [
    {
     "name": "stdout",
     "output_type": "stream",
     "text": [
      "22.338767790966788\n",
      "28.533705033633545\n",
      "29.274268615123017\n",
      "31.10931114360617\n",
      "31.10931114360617\n",
      "31.867775626953986\n"
     ]
    }
   ],
   "source": [
    "psnr_vals(originalImage,noisyImage3,boxOutput3,gaussOutput3,medianOutput3,medianFilterOutput3)\n",
    "psnrMEDIANCENTERWEIGHTED3 = cv.PSNR(originalImage,centerMedianFilterOutput3)\n",
    "print(psnrMEDIANCENTERWEIGHTED3)"
   ]
  },
  {
   "cell_type": "code",
   "execution_count": 40,
   "metadata": {},
   "outputs": [
    {
     "name": "stdout",
     "output_type": "stream",
     "text": [
      "19.414920543390515\n",
      "27.6796220470695\n",
      "28.260512479802532\n",
      "31.029963635969523\n",
      "31.029963635969523\n",
      "31.781615946259386\n"
     ]
    }
   ],
   "source": [
    "psnr_vals(originalImage,noisyImage4,boxOutput4,gaussOutput4,medianOutput4,medianFilterOutput4)\n",
    "psnrMEDIANCENTERWEIGHTED4 = cv.PSNR(originalImage,centerMedianFilterOutput4)\n",
    "print(psnrMEDIANCENTERWEIGHTED4)"
   ]
  }
 ],
 "metadata": {
  "kernelspec": {
   "display_name": "opencv-env",
   "language": "python",
   "name": "python3"
  },
  "language_info": {
   "codemirror_mode": {
    "name": "ipython",
    "version": 3
   },
   "file_extension": ".py",
   "mimetype": "text/x-python",
   "name": "python",
   "nbconvert_exporter": "python",
   "pygments_lexer": "ipython3",
   "version": "3.11.5"
  }
 },
 "nbformat": 4,
 "nbformat_minor": 2
}
