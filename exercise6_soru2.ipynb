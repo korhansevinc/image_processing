{
 "cells": [
  {
   "cell_type": "code",
   "execution_count": null,
   "metadata": {},
   "outputs": [],
   "source": [
    "from imutils import paths\n",
    "import numpy as np\n",
    "import argparse\n",
    "import imutils\n",
    "import cv2\n",
    "\n",
    "# construct the argument parser and parse the arguments\n",
    "ap = argparse.ArgumentParser()\n",
    "ap.add_argument(\"-i\", \"--images\", type=str, required=True,\n",
    "\thelp=\"path to input directory of images to stitch\")\n",
    "ap.add_argument(\"-o\", \"--output\", type=str, required=True,\n",
    "\thelp=\"path to the output image\")\n",
    "args = vars(ap.parse_args())\n",
    "\n",
    "# grab the paths to the input images and initialize our images list\n",
    "print(\"[INFO] loading images...\")\n",
    "imagePaths = sorted(list(paths.list_images(args[\"images\"])))\n",
    "images = []\n",
    "\n",
    "# loop over the image paths, load each one, and add them to our images to stitch list\n",
    "for imagePath in imagePaths:\n",
    "\timage = cv2.imread(imagePath)\n",
    "\timages.append(image)\n",
    "\t\n",
    "# initialize OpenCV's image stitcher object and then perform the image stitching\n",
    "print(\"[INFO] stitching images...\")\n",
    "stitcher = cv2.createStitcher() if imutils.is_cv3() else cv2.Stitcher_create()\n",
    "(status, stitched) = stitcher.stitch(images)\n",
    "\n",
    "# if the status is '0', then OpenCV successfully performed image stitching\n",
    "if status == 0:\n",
    "\t# write the output stitched image to disk\n",
    "\tcv2.imwrite(args[\"output\"], stitched)\n",
    "\t# display the output stitched image to our screen\n",
    "\tcv2.imshow(\"Stitched\", stitched)\n",
    "\tcv2.waitKey(0)\n",
    "# otherwise the stitching failed, likely due to not enough keypoints) being detected\n",
    "else:\n",
    "\tprint(\"[INFO] image stitching failed ({})\".format(status))\n"
   ]
  },
  {
   "cell_type": "code",
   "execution_count": null,
   "metadata": {},
   "outputs": [],
   "source": []
  }
 ],
 "metadata": {
  "kernelspec": {
   "display_name": "opencv-env",
   "language": "python",
   "name": "python3"
  },
  "language_info": {
   "codemirror_mode": {
    "name": "ipython",
    "version": 3
   },
   "file_extension": ".py",
   "mimetype": "text/x-python",
   "name": "python",
   "nbconvert_exporter": "python",
   "pygments_lexer": "ipython3",
   "version": "3.11.5"
  }
 },
 "nbformat": 4,
 "nbformat_minor": 2
}
