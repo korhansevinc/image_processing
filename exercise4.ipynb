{
 "cells": [
  {
   "cell_type": "markdown",
   "metadata": {},
   "source": [
    "EXERCISE 4"
   ]
  },
  {
   "cell_type": "markdown",
   "metadata": {},
   "source": [
    "Importing Libraries : "
   ]
  },
  {
   "cell_type": "code",
   "execution_count": 1,
   "metadata": {},
   "outputs": [],
   "source": [
    "import cv2 as cv\n",
    "import numpy as np"
   ]
  },
  {
   "cell_type": "markdown",
   "metadata": {},
   "source": [
    "Q - 1 : Adaptive Mean Filter"
   ]
  },
  {
   "cell_type": "markdown",
   "metadata": {},
   "source": [
    "Taking Our Image as Input :"
   ]
  },
  {
   "cell_type": "code",
   "execution_count": 2,
   "metadata": {},
   "outputs": [
    {
     "name": "stdout",
     "output_type": "stream",
     "text": [
      "[[172 179 167 ... 157 152 121]\n",
      " [159 165 158 ... 176 150 132]\n",
      " [166 176 152 ... 169 164 129]\n",
      " ...\n",
      " [ 42  34  46 ... 117 106 105]\n",
      " [ 38  37  50 ... 112 111 109]\n",
      " [ 47  38  52 ...  99 116  89]] \n",
      "\n",
      "512 512\n"
     ]
    }
   ],
   "source": [
    "gaussianNoisyImage = cv.imread(\"GaussianNoise.jpg\",0)\n",
    "print(gaussianNoisyImage,\"\\n\")\n",
    "m,n = gaussianNoisyImage.shape\n",
    "print(m,n)"
   ]
  },
  {
   "cell_type": "markdown",
   "metadata": {},
   "source": [
    "Normalization of Image : "
   ]
  },
  {
   "cell_type": "code",
   "execution_count": 3,
   "metadata": {},
   "outputs": [
    {
     "name": "stdout",
     "output_type": "stream",
     "text": [
      "[[0.6745098  0.7019608  0.654902   ... 0.6156863  0.59607846 0.4745098 ]\n",
      " [0.62352943 0.64705884 0.61960787 ... 0.6901961  0.5882353  0.5176471 ]\n",
      " [0.6509804  0.6901961  0.59607846 ... 0.6627451  0.6431373  0.5058824 ]\n",
      " ...\n",
      " [0.16470589 0.13333334 0.18039216 ... 0.45882353 0.41568628 0.4117647 ]\n",
      " [0.14901961 0.14509805 0.19607843 ... 0.4392157  0.43529412 0.42745098]\n",
      " [0.18431373 0.14901961 0.20392157 ... 0.3882353  0.45490196 0.34901962]]\n"
     ]
    }
   ],
   "source": [
    "normalizedGaussianNoisyImage = np.single(gaussianNoisyImage) / 255.0\n",
    "print(normalizedGaussianNoisyImage)"
   ]
  },
  {
   "cell_type": "markdown",
   "metadata": {},
   "source": [
    "Necessary Functions :"
   ]
  },
  {
   "cell_type": "code",
   "execution_count": 4,
   "metadata": {},
   "outputs": [],
   "source": [
    "def levelA(piece,new_matrix,i,j,z_min,z_med,z_max,z_xy, currentPaddingSize, maxPaddingSize):\n",
    "    if z_min < z_med < z_max :\n",
    "        # GO TO LEVEL B.\n",
    "        pixelVal = levelB(z_min,z_med,z_max,z_xy)\n",
    "        return pixelVal\n",
    "    else :\n",
    "        currentPaddingSize +=2\n",
    "        piece = take_a_piece(new_matrix,i,j,currentPaddingSize)\n",
    "        z_med = np.median(piece)\n",
    "        z_min = np.min(piece)\n",
    "        z_max = np.max(piece)\n",
    "    if currentPaddingSize < maxPaddingSize:\n",
    "        # RECURSIVE CALL OF A\n",
    "        levelA(piece,new_matrix,i,j,z_min,z_med,z_max,z_xy,currentPaddingSize,maxPaddingSize)\n",
    "    else :\n",
    "        pixelVal = z_med\n",
    "        return pixelVal\n",
    "    \n",
    "def levelB(z_min,z_med,z_max,z_xy):\n",
    "    if z_min < z_xy < z_max:\n",
    "        return z_xy\n",
    "    else : \n",
    "        return z_med\n",
    "# Used Zero Padding on Borders.\n",
    "def adaptiveMeanFilter(image,filterKernelSupportSize,varianceOfNoise):\n",
    "      m,n = image.shape\n",
    "      normalizedNoisyImage = normalizeImage(image)\n",
    "      localVariance = 0 # sigmoid Sxy\n",
    "      paddingSize = filterKernelSupportSize // 2\n",
    "      big_matrix = np.zeros( (m+2*paddingSize, n+2*paddingSize) )\n",
    "      big_matrix[paddingSize:paddingSize+m,paddingSize:paddingSize+n] = normalizedNoisyImage\n",
    "      adaptiveMeanFilteredNormalizedImage = np.zeros( (m,n) )\n",
    "      \n",
    "      for i in range(paddingSize,m+paddingSize):\n",
    "            for j in range(paddingSize, n + paddingSize):\n",
    "                  piece = take_a_piece(big_matrix,i,j,paddingSize)\n",
    "                  localAverageIntensity = np.sum(piece) / (filterKernelSupportSize**2)\n",
    "                  localVariance = calculateVariance(piece)\n",
    "                  noisyPixelAtXY = normalizedNoisyImage[i-paddingSize,j-paddingSize]\n",
    "                  pixelValue = noisyPixelAtXY  - (varianceOfNoise / localVariance)*(noisyPixelAtXY - localAverageIntensity)\n",
    "                  adaptiveMeanFilteredNormalizedImage[i-paddingSize,j-paddingSize] = pixelValue\n",
    "      adaptiveMeanFilteredImage = (adaptiveMeanFilteredNormalizedImage * 255).astype(np.uint8)\n",
    "      return adaptiveMeanFilteredImage\n",
    "\n",
    "def borderReplicating(noisyimage1,paddingSize):\n",
    "      first_row = noisyimage1[0,:] \n",
    "      last_row = noisyimage1[-1,:]\n",
    "      first_col = noisyimage1[:,0]\n",
    "      last_col = noisyimage1[:,-1]\n",
    "      m,n = noisyimage1.shape\n",
    "      new_matrix= np.zeros( (m + 2 * paddingSize,n + 2 * paddingSize) )\n",
    "      new_matrix[paddingSize : paddingSize + m,paddingSize : paddingSize + n] = noisyimage1\n",
    "      for loop_range in range(paddingSize):\n",
    "            new_matrix[loop_range, paddingSize : paddingSize + m] = first_row\n",
    "            new_matrix[paddingSize + m + loop_range, paddingSize : paddingSize + m] = last_row\n",
    "            new_matrix[paddingSize : paddingSize + n, loop_range] = first_col\n",
    "            new_matrix[paddingSize: paddingSize + n ,paddingSize + n + loop_range  ] = last_col\n",
    "      for i in range(paddingSize):\n",
    "            for j in range(paddingSize):\n",
    "                  new_matrix[i,j] = noisyimage1[0,0]\n",
    "                  new_matrix[i, j+n+paddingSize] = noisyimage1[0,511]\n",
    "                  new_matrix[i+paddingSize+m, j] = noisyimage1[511,0]\n",
    "                  new_matrix[i+m+paddingSize,j+n+paddingSize] = noisyimage1[511,511]\n",
    "      return new_matrix\n",
    "\n",
    "def adaptiveMedianFilter(image):\n",
    "      row, col = image.shape\n",
    "      # which is 3 because our max S-xy is : 7x7\n",
    "      maxPaddingSize = 7 // 2\n",
    "      currentPaddingSize = 3 // 2\n",
    "      new_matrix = borderReplicating(image,maxPaddingSize)\n",
    "      adaptiveMedianFilteredImage = np.zeros( (row,col) )\n",
    "      for i in range(maxPaddingSize, maxPaddingSize+row):\n",
    "            for j in range(maxPaddingSize,maxPaddingSize+col):\n",
    "                  #LEVEL A\n",
    "                  piece = take_a_piece(new_matrix,i,j,currentPaddingSize)\n",
    "                  z_med = np.median(piece)\n",
    "                  z_min = np.min(piece)\n",
    "                  z_max = np.max(piece)\n",
    "                  z_xy = new_matrix[i,j]\n",
    "                  pixelVal = levelA(piece,new_matrix,i,j,z_min,z_med,z_max,z_xy, currentPaddingSize, maxPaddingSize)\n",
    "                  adaptiveMedianFilteredImage[i-maxPaddingSize,j-maxPaddingSize] = pixelVal\n",
    "      adaptiveMedianFilteredImage = np.uint8(adaptiveMedianFilteredImage)\n",
    "      return adaptiveMedianFilteredImage\n",
    "\n",
    "def normalizeImage(image):\n",
    "      normalizedImage = np.single(image) / 255.0\n",
    "      return normalizedImage\n",
    "\n",
    "def take_a_piece(big_matrix,i,j,padding_size):\n",
    "      x1 = i-padding_size\n",
    "      x2 = i+padding_size\n",
    "      x3 = j-padding_size\n",
    "      x4 = j+padding_size\n",
    "      piece = big_matrix[x1:x2+1,x3:x4+1]\n",
    "      return piece\n",
    "\n",
    "def calculateVariance(piece):\n",
    "      mean = np.mean(piece)\n",
    "      variances = np.mean( (piece - mean)**2 )\n",
    "      totalVariance = np.mean(variances)\n",
    "      return totalVariance\n",
    "\n",
    "def draw_images(image1, image2):\n",
    "      cv.namedWindow(\"image1\", cv.WINDOW_NORMAL)\n",
    "      cv.namedWindow(\"image2\", cv.WINDOW_NORMAL)\n",
    "      cv.imshow(\"image1\", image1)\n",
    "      cv.imshow(\"image2\", image2)\n",
    "      cv.waitKey(0)\n",
    "      cv.destroyAllWindows()   "
   ]
  },
  {
   "cell_type": "markdown",
   "metadata": {},
   "source": [
    "Applying Adaptive Mean Filter : \n",
    "In this part if we choose our variance of Noise 0.009 our filter is corrupting the image and it won't work.So it is need to be known the varianceOfNoise(sigmoidn^2)."
   ]
  },
  {
   "cell_type": "code",
   "execution_count": 5,
   "metadata": {},
   "outputs": [
    {
     "ename": "KeyboardInterrupt",
     "evalue": "",
     "output_type": "error",
     "traceback": [
      "\u001b[1;31m---------------------------------------------------------------------------\u001b[0m",
      "\u001b[1;31mKeyboardInterrupt\u001b[0m                         Traceback (most recent call last)",
      "\u001b[1;32mc:\\Users\\Korhan\\Desktop\\workspace\\vsCodeWorkspace\\Python_Workspace\\Image_Processing\\Exercise4\\exercise4.ipynb Cell 11\u001b[0m line \u001b[0;36m3\n\u001b[0;32m      <a href='vscode-notebook-cell:/c%3A/Users/Korhan/Desktop/workspace/vsCodeWorkspace/Python_Workspace/Image_Processing/Exercise4/exercise4.ipynb#X13sZmlsZQ%3D%3D?line=0'>1</a>\u001b[0m filterKernelSupportSize \u001b[39m=\u001b[39m \u001b[39m5\u001b[39m\n\u001b[0;32m      <a href='vscode-notebook-cell:/c%3A/Users/Korhan/Desktop/workspace/vsCodeWorkspace/Python_Workspace/Image_Processing/Exercise4/exercise4.ipynb#X13sZmlsZQ%3D%3D?line=1'>2</a>\u001b[0m varianceOfNoise \u001b[39m=\u001b[39m \u001b[39m0.001225\u001b[39m\n\u001b[1;32m----> <a href='vscode-notebook-cell:/c%3A/Users/Korhan/Desktop/workspace/vsCodeWorkspace/Python_Workspace/Image_Processing/Exercise4/exercise4.ipynb#X13sZmlsZQ%3D%3D?line=2'>3</a>\u001b[0m output_1_1 \u001b[39m=\u001b[39m adaptiveMeanFilter(gaussianNoisyImage,filterKernelSupportSize,varianceOfNoise)\n",
      "\u001b[1;32mc:\\Users\\Korhan\\Desktop\\workspace\\vsCodeWorkspace\\Python_Workspace\\Image_Processing\\Exercise4\\exercise4.ipynb Cell 11\u001b[0m line \u001b[0;36m3\n\u001b[0;32m     <a href='vscode-notebook-cell:/c%3A/Users/Korhan/Desktop/workspace/vsCodeWorkspace/Python_Workspace/Image_Processing/Exercise4/exercise4.ipynb#X13sZmlsZQ%3D%3D?line=35'>36</a>\u001b[0m piece \u001b[39m=\u001b[39m take_a_piece(big_matrix,i,j,paddingSize)\n\u001b[0;32m     <a href='vscode-notebook-cell:/c%3A/Users/Korhan/Desktop/workspace/vsCodeWorkspace/Python_Workspace/Image_Processing/Exercise4/exercise4.ipynb#X13sZmlsZQ%3D%3D?line=36'>37</a>\u001b[0m localAverageIntensity \u001b[39m=\u001b[39m np\u001b[39m.\u001b[39msum(piece) \u001b[39m/\u001b[39m (filterKernelSupportSize\u001b[39m*\u001b[39m\u001b[39m*\u001b[39m\u001b[39m2\u001b[39m)\n\u001b[1;32m---> <a href='vscode-notebook-cell:/c%3A/Users/Korhan/Desktop/workspace/vsCodeWorkspace/Python_Workspace/Image_Processing/Exercise4/exercise4.ipynb#X13sZmlsZQ%3D%3D?line=37'>38</a>\u001b[0m localVariance \u001b[39m=\u001b[39m calculateVariance(piece)\n\u001b[0;32m     <a href='vscode-notebook-cell:/c%3A/Users/Korhan/Desktop/workspace/vsCodeWorkspace/Python_Workspace/Image_Processing/Exercise4/exercise4.ipynb#X13sZmlsZQ%3D%3D?line=38'>39</a>\u001b[0m noisyPixelAtXY \u001b[39m=\u001b[39m normalizedNoisyImage[i\u001b[39m-\u001b[39mpaddingSize,j\u001b[39m-\u001b[39mpaddingSize]\n\u001b[0;32m     <a href='vscode-notebook-cell:/c%3A/Users/Korhan/Desktop/workspace/vsCodeWorkspace/Python_Workspace/Image_Processing/Exercise4/exercise4.ipynb#X13sZmlsZQ%3D%3D?line=39'>40</a>\u001b[0m pixelValue \u001b[39m=\u001b[39m noisyPixelAtXY  \u001b[39m-\u001b[39m (varianceOfNoise \u001b[39m/\u001b[39m localVariance)\u001b[39m*\u001b[39m(noisyPixelAtXY \u001b[39m-\u001b[39m localAverageIntensity)\n",
      "\u001b[1;32mc:\\Users\\Korhan\\Desktop\\workspace\\vsCodeWorkspace\\Python_Workspace\\Image_Processing\\Exercise4\\exercise4.ipynb Cell 11\u001b[0m line \u001b[0;36m1\n\u001b[0;32m     <a href='vscode-notebook-cell:/c%3A/Users/Korhan/Desktop/workspace/vsCodeWorkspace/Python_Workspace/Image_Processing/Exercise4/exercise4.ipynb#X13sZmlsZQ%3D%3D?line=98'>99</a>\u001b[0m mean \u001b[39m=\u001b[39m np\u001b[39m.\u001b[39mmean(piece)\n\u001b[0;32m    <a href='vscode-notebook-cell:/c%3A/Users/Korhan/Desktop/workspace/vsCodeWorkspace/Python_Workspace/Image_Processing/Exercise4/exercise4.ipynb#X13sZmlsZQ%3D%3D?line=99'>100</a>\u001b[0m variances \u001b[39m=\u001b[39m np\u001b[39m.\u001b[39mmean( (piece \u001b[39m-\u001b[39m mean)\u001b[39m*\u001b[39m\u001b[39m*\u001b[39m\u001b[39m2\u001b[39m )\n\u001b[1;32m--> <a href='vscode-notebook-cell:/c%3A/Users/Korhan/Desktop/workspace/vsCodeWorkspace/Python_Workspace/Image_Processing/Exercise4/exercise4.ipynb#X13sZmlsZQ%3D%3D?line=100'>101</a>\u001b[0m totalVariance \u001b[39m=\u001b[39m np\u001b[39m.\u001b[39;49mmean(variances)\n\u001b[0;32m    <a href='vscode-notebook-cell:/c%3A/Users/Korhan/Desktop/workspace/vsCodeWorkspace/Python_Workspace/Image_Processing/Exercise4/exercise4.ipynb#X13sZmlsZQ%3D%3D?line=101'>102</a>\u001b[0m \u001b[39mreturn\u001b[39;00m totalVariance\n",
      "File \u001b[1;32mc:\\Users\\Korhan\\anaconda3\\envs\\opencv-env\\Lib\\site-packages\\numpy\\core\\fromnumeric.py:3502\u001b[0m, in \u001b[0;36mmean\u001b[1;34m(a, axis, dtype, out, keepdims, where)\u001b[0m\n\u001b[0;32m   3500\u001b[0m         \u001b[39mpass\u001b[39;00m\n\u001b[0;32m   3501\u001b[0m     \u001b[39melse\u001b[39;00m:\n\u001b[1;32m-> 3502\u001b[0m         \u001b[39mreturn\u001b[39;00m mean(axis\u001b[39m=\u001b[39;49maxis, dtype\u001b[39m=\u001b[39;49mdtype, out\u001b[39m=\u001b[39;49mout, \u001b[39m*\u001b[39;49m\u001b[39m*\u001b[39;49mkwargs)\n\u001b[0;32m   3504\u001b[0m \u001b[39mreturn\u001b[39;00m _methods\u001b[39m.\u001b[39m_mean(a, axis\u001b[39m=\u001b[39maxis, dtype\u001b[39m=\u001b[39mdtype,\n\u001b[0;32m   3505\u001b[0m                       out\u001b[39m=\u001b[39mout, \u001b[39m*\u001b[39m\u001b[39m*\u001b[39mkwargs)\n",
      "File \u001b[1;32mc:\\Users\\Korhan\\anaconda3\\envs\\opencv-env\\Lib\\site-packages\\numpy\\core\\_methods.py:106\u001b[0m, in \u001b[0;36m_mean\u001b[1;34m(a, axis, dtype, out, keepdims, where)\u001b[0m\n\u001b[0;32m    102\u001b[0m arr \u001b[39m=\u001b[39m asanyarray(a)\n\u001b[0;32m    104\u001b[0m is_float16_result \u001b[39m=\u001b[39m \u001b[39mFalse\u001b[39;00m\n\u001b[1;32m--> 106\u001b[0m rcount \u001b[39m=\u001b[39m _count_reduce_items(arr, axis, keepdims\u001b[39m=\u001b[39;49mkeepdims, where\u001b[39m=\u001b[39;49mwhere)\n\u001b[0;32m    107\u001b[0m \u001b[39mif\u001b[39;00m rcount \u001b[39m==\u001b[39m \u001b[39m0\u001b[39m \u001b[39mif\u001b[39;00m where \u001b[39mis\u001b[39;00m \u001b[39mTrue\u001b[39;00m \u001b[39melse\u001b[39;00m umr_any(rcount \u001b[39m==\u001b[39m \u001b[39m0\u001b[39m, axis\u001b[39m=\u001b[39m\u001b[39mNone\u001b[39;00m):\n\u001b[0;32m    108\u001b[0m     warnings\u001b[39m.\u001b[39mwarn(\u001b[39m\"\u001b[39m\u001b[39mMean of empty slice.\u001b[39m\u001b[39m\"\u001b[39m, \u001b[39mRuntimeWarning\u001b[39;00m, stacklevel\u001b[39m=\u001b[39m\u001b[39m2\u001b[39m)\n",
      "File \u001b[1;32mc:\\Users\\Korhan\\anaconda3\\envs\\opencv-env\\Lib\\site-packages\\numpy\\core\\_methods.py:72\u001b[0m, in \u001b[0;36m_count_reduce_items\u001b[1;34m(arr, axis, keepdims, where)\u001b[0m\n\u001b[0;32m     69\u001b[0m \u001b[39mif\u001b[39;00m where \u001b[39mis\u001b[39;00m \u001b[39mTrue\u001b[39;00m:\n\u001b[0;32m     70\u001b[0m     \u001b[39m# no boolean mask given, calculate items according to axis\u001b[39;00m\n\u001b[0;32m     71\u001b[0m     \u001b[39mif\u001b[39;00m axis \u001b[39mis\u001b[39;00m \u001b[39mNone\u001b[39;00m:\n\u001b[1;32m---> 72\u001b[0m         axis \u001b[39m=\u001b[39m \u001b[39mtuple\u001b[39m(\u001b[39mrange\u001b[39m(arr\u001b[39m.\u001b[39mndim))\n\u001b[0;32m     73\u001b[0m     \u001b[39melif\u001b[39;00m \u001b[39mnot\u001b[39;00m \u001b[39misinstance\u001b[39m(axis, \u001b[39mtuple\u001b[39m):\n\u001b[0;32m     74\u001b[0m         axis \u001b[39m=\u001b[39m (axis,)\n",
      "\u001b[1;31mKeyboardInterrupt\u001b[0m: "
     ]
    }
   ],
   "source": [
    "filterKernelSupportSize = 5\n",
    "varianceOfNoise = 0.001225\n",
    "output_1_1 = adaptiveMeanFilter(gaussianNoisyImage,filterKernelSupportSize,varianceOfNoise)\n"
   ]
  },
  {
   "cell_type": "code",
   "execution_count": null,
   "metadata": {},
   "outputs": [
    {
     "name": "stdout",
     "output_type": "stream",
     "text": [
      "[[170 177 166 ... 156 150 119]\n",
      " [158 164 157 ... 175 149 131]\n",
      " [165 175 166 ... 166 163 128]\n",
      " ...\n",
      " [ 39  34  45 ... 106 104 103]\n",
      " [ 35  35  46 ... 110 109 107]\n",
      " [ 41  35  48 ...  97 114  87]]\n"
     ]
    }
   ],
   "source": [
    "print(output_1_1)"
   ]
  },
  {
   "cell_type": "code",
   "execution_count": null,
   "metadata": {},
   "outputs": [],
   "source": [
    "draw_images(output_1_1,gaussianNoisyImage)"
   ]
  },
  {
   "cell_type": "markdown",
   "metadata": {},
   "source": [
    "Applying Other 2 Denoising Filters : Box Filter and Gaussian Filter"
   ]
  },
  {
   "cell_type": "code",
   "execution_count": null,
   "metadata": {},
   "outputs": [],
   "source": [
    "# Opencv .blur() API - NORMALIZED box filter.\n",
    "output_1_2 = cv.blur(gaussianNoisyImage, (5,5))\n",
    "\n",
    "# Opencv .GaussianBlur() API - Gaussian filter.\n",
    "output_1_3 = cv.GaussianBlur(gaussianNoisyImage, (5,5), 0)"
   ]
  },
  {
   "cell_type": "code",
   "execution_count": null,
   "metadata": {},
   "outputs": [],
   "source": [
    "draw_images(output_1_2, gaussianNoisyImage)\n",
    "draw_images(output_1_3,gaussianNoisyImage)"
   ]
  },
  {
   "cell_type": "markdown",
   "metadata": {},
   "source": [
    "Evaluation Part : "
   ]
  },
  {
   "cell_type": "code",
   "execution_count": null,
   "metadata": {},
   "outputs": [
    {
     "name": "stdout",
     "output_type": "stream",
     "text": [
      "[[161 158 159 ... 168 154 116]\n",
      " [159 158 159 ... 166 152 119]\n",
      " [159 159 160 ... 169 151 119]\n",
      " ...\n",
      " [ 20  22  27 ...  92  92  83]\n",
      " [ 20  25  31 ...  92  92  96]\n",
      " [ 23  20  33 ...  90  91  98]]\n"
     ]
    }
   ],
   "source": [
    "cleanImage = cv.imread(\"cleanImage.jpg\",0)\n",
    "print(cleanImage)"
   ]
  },
  {
   "cell_type": "code",
   "execution_count": null,
   "metadata": {},
   "outputs": [],
   "source": [
    "\n",
    "psnr = cv.PSNR(cleanImage,gaussianNoisyImage)\n",
    "psnr1 = cv.PSNR(cleanImage,output_1_1)\n",
    "psnr2 = cv.PSNR(cleanImage,output_1_2)\n",
    "psnr3 = cv.PSNR(cleanImage,output_1_3)"
   ]
  },
  {
   "cell_type": "code",
   "execution_count": null,
   "metadata": {},
   "outputs": [
    {
     "name": "stdout",
     "output_type": "stream",
     "text": [
      "PSNR Value of Clean - Box Filtered           :  24.91291477512988\n",
      "PSNR Value of Clean - Noised                 :  25.76271314264556\n",
      "PSNR Value of Clean - Gaussian Filtered      :  26.111154216423053\n",
      "PSNR Value of Clean - Adaptive Mean Filtered :  27.070123753297217\n"
     ]
    }
   ],
   "source": [
    "print(\"PSNR Value of Clean - Box Filtered           : \",psnr2)\n",
    "print(\"PSNR Value of Clean - Noised                 : \",psnr)\n",
    "print(\"PSNR Value of Clean - Gaussian Filtered      : \",psnr3)\n",
    "print(\"PSNR Value of Clean - Adaptive Mean Filtered : \",psnr1)"
   ]
  },
  {
   "cell_type": "markdown",
   "metadata": {},
   "source": [
    "Q - 2 : Adaptive Median Filter "
   ]
  },
  {
   "cell_type": "code",
   "execution_count": null,
   "metadata": {},
   "outputs": [
    {
     "name": "stdout",
     "output_type": "stream",
     "text": [
      "[[161 158 159 ... 168 154 116]\n",
      " [159 158 159 ... 166 152 119]\n",
      " [159 159 160 ... 169 151 119]\n",
      " ...\n",
      " [ 20  22  27 ...  92  92  83]\n",
      " [ 20  25  31 ...  92  92  96]\n",
      " [ 23  20  33 ...  90  91  98]]\n"
     ]
    }
   ],
   "source": [
    "saltPepperNoiseImage = cv.imread(\"SaltPepperNoise_1.jpg\",0)\n",
    "print(saltPepperNoiseImage)"
   ]
  },
  {
   "cell_type": "markdown",
   "metadata": {},
   "source": [
    "Applying Adaptive Median Filter to Image : "
   ]
  },
  {
   "cell_type": "code",
   "execution_count": null,
   "metadata": {},
   "outputs": [],
   "source": [
    "output_2_1 = adaptiveMedianFilter(saltPepperNoiseImage)"
   ]
  },
  {
   "cell_type": "markdown",
   "metadata": {},
   "source": [
    "Recall of EXERCISE - 3 : Our Center Weighted Median Filter "
   ]
  },
  {
   "cell_type": "markdown",
   "metadata": {},
   "source": [
    "Methods from Exercise 3 : "
   ]
  },
  {
   "cell_type": "code",
   "execution_count": null,
   "metadata": {},
   "outputs": [],
   "source": [
    "def centerWeightedmedianFilter(image,medianFilterSize,weight):\n",
    "      m,n = image.shape\n",
    "      paddingSize = medianFilterSize // 2\n",
    "      new_matrix = borderReplicating(image,paddingSize)\n",
    "      centerWeightedMedianFilteredImage = np.zeros( (m,n) )\n",
    "      for i in range(paddingSize, paddingSize+m):\n",
    "            for j in range(paddingSize, paddingSize+n):\n",
    "                  piece = take_a_piece(new_matrix,i,j,paddingSize)\n",
    "                  temp = applyingWeight(piece,paddingSize,weight)\n",
    "                  temp = np.sort(temp)\n",
    "                  medianValue = temp[ (medianFilterSize**2) // 2 ]\n",
    "                  centerWeightedMedianFilteredImage[i-paddingSize, j-paddingSize]= medianValue\n",
    "      centerWeightedMedianFilteredImage = np.uint8(np.round(centerWeightedMedianFilteredImage))\n",
    "      return centerWeightedMedianFilteredImage\n",
    "\n",
    "def applyingWeight(piece,paddingSize,weight):\n",
    "      m,n = piece.shape\n",
    "      listOfPieceValues = []\n",
    "      for i in range(m):\n",
    "            for j in range(n):\n",
    "                  if i== paddingSize and j == paddingSize : # Which means it is center.\n",
    "                        for k in range(weight):\n",
    "                              listOfPieceValues.append(piece[i,j])\n",
    "                  else:\n",
    "                        listOfPieceValues.append(piece[i,j])\n",
    "      return listOfPieceValues"
   ]
  },
  {
   "cell_type": "markdown",
   "metadata": {},
   "source": [
    "OpenCV's Built In Median Filters : 3x3 - 5x5 - 7x7"
   ]
  },
  {
   "cell_type": "code",
   "execution_count": null,
   "metadata": {},
   "outputs": [],
   "source": [
    "output_2_2 = cv.medianBlur(saltPepperNoiseImage, 3)\n",
    "output_2_3 = cv.medianBlur(saltPepperNoiseImage, 5)\n",
    "output_2_4 = cv.medianBlur(saltPepperNoiseImage, 7)"
   ]
  },
  {
   "cell_type": "markdown",
   "metadata": {},
   "source": [
    "Applying Center Weighted Filters : 3x3 - 5x5 - 7x7"
   ]
  },
  {
   "cell_type": "code",
   "execution_count": null,
   "metadata": {},
   "outputs": [],
   "source": [
    "output_2_5 = centerWeightedmedianFilter(saltPepperNoiseImage,3,3)\n",
    "output_2_6 = centerWeightedmedianFilter(saltPepperNoiseImage,5,5)\n",
    "output_2_7 = centerWeightedmedianFilter(saltPepperNoiseImage,7,7)"
   ]
  },
  {
   "cell_type": "markdown",
   "metadata": {},
   "source": [
    "Evaluation Part : PSNR Values"
   ]
  },
  {
   "cell_type": "code",
   "execution_count": null,
   "metadata": {},
   "outputs": [],
   "source": [
    "psnrForSAP = cv.PSNR(cleanImage,saltPepperNoiseImage)\n",
    "psnr4 = cv.PSNR(cleanImage,output_2_1)\n",
    "psnr5 = cv.PSNR(cleanImage,output_2_2)\n",
    "psnr6 = cv.PSNR(cleanImage,output_2_3)\n",
    "psnr7 = cv.PSNR(cleanImage,output_2_4)\n",
    "psnr8 = cv.PSNR(cleanImage,output_2_5)\n",
    "psnr9 = cv.PSNR(cleanImage,output_2_6)\n",
    "psnr10 = cv.PSNR(cleanImage,output_2_7)"
   ]
  },
  {
   "cell_type": "code",
   "execution_count": null,
   "metadata": {},
   "outputs": [
    {
     "name": "stdout",
     "output_type": "stream",
     "text": [
      "PSNR Value of Clean - Our Adaptive Median Filter        :  37.74197740239303\n",
      "PSNR Value of Clean - Noised                            :  31.17935178645491\n",
      "PSNR Value of Clean - OpenCV Median Filtered  3x3       :  33.868636704002576\n",
      "PSNR Value of Clean - OpenCV Median Filtered  5x5       :  29.930072057093287\n",
      "PSNR Value of Clean - OpenCV Median Filtered  7x7       :  27.800558085364404\n",
      "PSNR Value of Clean - Center Weighted Median Filter 3x3 :  35.680976337467776\n",
      "PSNR Value of Clean - Center Weighted Median Filter 5x5 :  31.25905908433834\n",
      "PSNR Value of Clean - Center Weighted Median Filter 7x7 :  28.884604800240542\n"
     ]
    }
   ],
   "source": [
    "print(\"PSNR Value of Clean - Our Adaptive Median Filter        : \",psnr4)\n",
    "print(\"PSNR Value of Clean - Noised                            : \",psnrForSAP)\n",
    "print(\"PSNR Value of Clean - OpenCV Median Filtered  3x3       : \",psnr5)\n",
    "print(\"PSNR Value of Clean - OpenCV Median Filtered  5x5       : \",psnr6)\n",
    "print(\"PSNR Value of Clean - OpenCV Median Filtered  7x7       : \",psnr7)\n",
    "print(\"PSNR Value of Clean - Center Weighted Median Filter 3x3 : \",psnr8)\n",
    "print(\"PSNR Value of Clean - Center Weighted Median Filter 5x5 : \",psnr9)\n",
    "print(\"PSNR Value of Clean - Center Weighted Median Filter 7x7 : \",psnr10)"
   ]
  },
  {
   "cell_type": "markdown",
   "metadata": {},
   "source": [
    "Applying All Filters to a Second Image : "
   ]
  },
  {
   "cell_type": "code",
   "execution_count": null,
   "metadata": {},
   "outputs": [
    {
     "name": "stdout",
     "output_type": "stream",
     "text": [
      "[[161 158 159 ... 168 154 116]\n",
      " [159 158 159 ... 166 152 119]\n",
      " [159 159 160 ... 169 151 119]\n",
      " ...\n",
      " [ 20  22  27 ...  91 255  80]\n",
      " [ 20  25  31 ...  91  92  97]\n",
      " [ 23  20  33 ...  89  91  98]]\n"
     ]
    }
   ],
   "source": [
    "saltAndPepperNoisedImage2 = cv.imread(\"SaltPepperNoise_2.jpg\",0)\n",
    "print(saltAndPepperNoisedImage2)"
   ]
  },
  {
   "cell_type": "code",
   "execution_count": null,
   "metadata": {},
   "outputs": [],
   "source": [
    "output_3_1 = adaptiveMedianFilter(saltAndPepperNoisedImage2)\n",
    "output_3_2 = cv.medianBlur(saltAndPepperNoisedImage2, 3)\n",
    "output_3_3 = cv.medianBlur(saltAndPepperNoisedImage2, 5)\n",
    "output_3_4 = cv.medianBlur(saltAndPepperNoisedImage2, 7)\n",
    "output_3_5 = centerWeightedmedianFilter(saltAndPepperNoisedImage2,3,3)\n",
    "output_3_6 = centerWeightedmedianFilter(saltAndPepperNoisedImage2,5,5)\n",
    "output_3_7 = centerWeightedmedianFilter(saltAndPepperNoisedImage2,7,7)\n"
   ]
  },
  {
   "cell_type": "code",
   "execution_count": null,
   "metadata": {},
   "outputs": [],
   "source": [
    "psnrForSAP = cv.PSNR(cleanImage,saltAndPepperNoisedImage2)\n",
    "psnr1 = cv.PSNR(cleanImage,output_3_1)\n",
    "psnr2 = cv.PSNR(cleanImage,output_3_2)\n",
    "psnr3 = cv.PSNR(cleanImage,output_3_3)\n",
    "psnr4 = cv.PSNR(cleanImage,output_3_4)\n",
    "psnr5 = cv.PSNR(cleanImage,output_3_5)\n",
    "psnr6 = cv.PSNR(cleanImage,output_3_6)\n",
    "psnr7 = cv.PSNR(cleanImage,output_3_7)"
   ]
  },
  {
   "cell_type": "code",
   "execution_count": null,
   "metadata": {},
   "outputs": [
    {
     "name": "stdout",
     "output_type": "stream",
     "text": [
      "PSNR Value of Clean - Our Adaptive Median Filter        :  34.908456827452724\n",
      "PSNR Value of Clean - Noised                            :  22.06821686946401\n",
      "PSNR Value of Clean - OpenCV Median Filtered  3x3       :  33.509311680314184\n",
      "PSNR Value of Clean - OpenCV Median Filtered  5x5       :  29.830583699377243\n",
      "PSNR Value of Clean - OpenCV Median Filtered  7x7       :  27.76026993903325\n",
      "PSNR Value of Clean - Center Weighted Median Filter 3x3 :  34.92309622265551\n",
      "PSNR Value of Clean - Center Weighted Median Filter 5x5 :  31.06791469197246\n",
      "PSNR Value of Clean - Center Weighted Median Filter 7x7 :  28.811044029226068\n"
     ]
    }
   ],
   "source": [
    "print(\"PSNR Value of Clean - Our Adaptive Median Filter        : \",psnr1)\n",
    "print(\"PSNR Value of Clean - Noised                            : \",psnrForSAP)\n",
    "print(\"PSNR Value of Clean - OpenCV Median Filtered  3x3       : \",psnr2)\n",
    "print(\"PSNR Value of Clean - OpenCV Median Filtered  5x5       : \",psnr3)\n",
    "print(\"PSNR Value of Clean - OpenCV Median Filtered  7x7       : \",psnr4)\n",
    "print(\"PSNR Value of Clean - Center Weighted Median Filter 3x3 : \",psnr5)\n",
    "print(\"PSNR Value of Clean - Center Weighted Median Filter 5x5 : \",psnr6)\n",
    "print(\"PSNR Value of Clean - Center Weighted Median Filter 7x7 : \",psnr7)"
   ]
  }
 ],
 "metadata": {
  "kernelspec": {
   "display_name": "opencv-env",
   "language": "python",
   "name": "python3"
  },
  "language_info": {
   "codemirror_mode": {
    "name": "ipython",
    "version": 3
   },
   "file_extension": ".py",
   "mimetype": "text/x-python",
   "name": "python",
   "nbconvert_exporter": "python",
   "pygments_lexer": "ipython3",
   "version": "3.11.5"
  }
 },
 "nbformat": 4,
 "nbformat_minor": 2
}
